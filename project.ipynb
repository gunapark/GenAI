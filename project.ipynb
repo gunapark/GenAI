{
 "cells": [
  {
   "cell_type": "markdown",
   "metadata": {},
   "source": [
    "# pip install openai==0.28 설치하셔야 됩니다!!"
   ]
  },
  {
   "cell_type": "code",
   "execution_count": 526,
   "metadata": {},
   "outputs": [],
   "source": [
    "import gradio as gr\n",
    "import openai\n",
    "import base64\n",
    "import time\n",
    "import mimetypes\n",
    "import fitz\n",
    "import spacy\n",
    "import faiss\n",
    "import numpy as np\n"
   ]
  },
  {
   "cell_type": "code",
   "execution_count": 527,
   "metadata": {},
   "outputs": [],
   "source": [
    "from sentence_transformers import SentenceTransformer"
   ]
  },
  {
   "cell_type": "code",
   "execution_count": 528,
   "metadata": {},
   "outputs": [],
   "source": [
    "nlp = spacy.load(\"en_core_web_sm\")"
   ]
  },
  {
   "cell_type": "code",
   "execution_count": 529,
   "metadata": {},
   "outputs": [],
   "source": [
    "model = SentenceTransformer(\"all-MiniLM-L6-v2\")"
   ]
  },
  {
   "cell_type": "code",
   "execution_count": 547,
   "metadata": {},
   "outputs": [],
   "source": [
    "openai.api_base = \"https://07a6-34-28-2-24.ngrok-free.app/v1\"  # 또는 ngrok URL\n",
    "openai.api_key = \"EMPTY\""
   ]
  },
  {
   "cell_type": "code",
   "execution_count": 548,
   "metadata": {},
   "outputs": [
    {
     "name": "stdout",
     "output_type": "stream",
     "text": [
      "{\n",
      "  \"object\": \"list\",\n",
      "  \"data\": [\n",
      "    {\n",
      "      \"id\": \"llava-hf/llava-1.5-7b-hf\",\n",
      "      \"object\": \"model\",\n",
      "      \"created\": 1733227036,\n",
      "      \"owned_by\": \"vllm\",\n",
      "      \"root\": \"llava-hf/llava-1.5-7b-hf\",\n",
      "      \"parent\": null,\n",
      "      \"max_model_len\": 4096,\n",
      "      \"permission\": [\n",
      "        {\n",
      "          \"id\": \"modelperm-395fe7bbcb77440a81d719eace7bfdce\",\n",
      "          \"object\": \"model_permission\",\n",
      "          \"created\": 1733227036,\n",
      "          \"allow_create_engine\": false,\n",
      "          \"allow_sampling\": true,\n",
      "          \"allow_logprobs\": true,\n",
      "          \"allow_search_indices\": false,\n",
      "          \"allow_view\": true,\n",
      "          \"allow_fine_tuning\": false,\n",
      "          \"organization\": \"*\",\n",
      "          \"group\": null,\n",
      "          \"is_blocking\": false\n",
      "        }\n",
      "      ]\n",
      "    }\n",
      "  ]\n",
      "}\n"
     ]
    }
   ],
   "source": [
    "try:\n",
    "    models = openai.Model.list()\n",
    "    print(models)\n",
    "except Exception as e:\n",
    "    print(f\"Error: {e}\")"
   ]
  },
  {
   "cell_type": "code",
   "execution_count": 549,
   "metadata": {},
   "outputs": [],
   "source": [
    "model_vllm = models.data[0].id\n"
   ]
  },
  {
   "cell_type": "code",
   "execution_count": 550,
   "metadata": {},
   "outputs": [],
   "source": [
    "def encode_base64_content_from_file(image_path: str) -> str:\n",
    "    \"\"\"Encode a content retrieved from image_path to base64 format.\"\"\"\n",
    "    with open(image_path, \"rb\") as image_file:\n",
    "        encoded_string = base64.b64encode(image_file.read()).decode('utf-8')\n",
    "    return encoded_string"
   ]
  },
  {
   "cell_type": "code",
   "execution_count": 551,
   "metadata": {},
   "outputs": [],
   "source": [
    "def remove_image_url_from_history(history):\n",
    "    for msg in history:\n",
    "        # content가 리스트인 경우에만 처리\n",
    "        if isinstance(msg.get(\"content\"), list):\n",
    "            # \"type\": \"image_url\"이 아닌 항목만 남김\n",
    "            msg[\"content\"] = [c for c in msg[\"content\"] if c.get(\"type\") != \"image_url\"]\n",
    "    return history"
   ]
  },
  {
   "cell_type": "code",
   "execution_count": 552,
   "metadata": {},
   "outputs": [],
   "source": [
    "def make_openai_msg(message,history):\n",
    "  content = []\n",
    "  print(\"message[text]\", message[\"text\"])\n",
    "  if message[\"files\"]:\n",
    "    history = remove_image_url_from_history(history)\n",
    "    for x in message[\"files\"]:\n",
    "      print(x)\n",
    "      image_url = f\"data:image/jpeg;base64,{encode_base64_content_from_file(x)}\"\n",
    "      content.append({\"type\": \"image_url\",\n",
    "                      \"image_url\":{\"url\": image_url}})\n",
    "    if message[\"text\"]:\n",
    "      content.append({\"type\":\"text\",\n",
    "                      \"text\": message[\"text\"]})\n",
    "    else:\n",
    "      content.append({\"type\":\"text\",\n",
    "                      \"text\":\"explain this picture(or image)\"})\n",
    "    new_history = history + [{\"role\":\"user\",\n",
    "          \"content\":content}]\n",
    "    print(new_history)\n",
    "    return gr.update(value=new_history)\n",
    "  else:\n",
    "    new_history = history + [{\"role\": \"user\",\n",
    "                \"content\": message[\"text\"]}]\n",
    "    print(new_history)\n",
    "    return gr.update(value=new_history)\n",
    "  "
   ]
  },
  {
   "cell_type": "code",
   "execution_count": 553,
   "metadata": {},
   "outputs": [],
   "source": [
    "def add_message(history, message):\n",
    "    for x in message[\"files\"]:\n",
    "        history.append({\"role\": \"user\", \"content\": {\"path\": x}})\n",
    "    if message[\"text\"] is not None:\n",
    "        history.append({\"role\": \"user\", \"content\": message[\"text\"]})\n",
    "    else: history.append({\"role\": \"user\", \"content\": \"explain this image or picture\"})\n",
    "    return history, gr.MultimodalTextbox(value=None, interactive=False)"
   ]
  },
  {
   "cell_type": "code",
   "execution_count": 554,
   "metadata": {},
   "outputs": [],
   "source": [
    "def bot(history: list,msg_history):\n",
    "    \n",
    "    chat_completion = openai.ChatCompletion.create(\n",
    "        model=model_vllm,  # Replace with your model ID\n",
    "        messages=msg_history,\n",
    "        max_tokens=128,  # Configurable for more detailed responses\n",
    "    )\n",
    "    result = chat_completion.choices[0].message[\"content\"]\n",
    "    print(\"bot생성 답변: \",result)\n",
    "    history.append({\"role\": \"assistant\", \"content\": \"\"})\n",
    "    update_history = msg_history + [{\"role\": \"assistant\", \"content\":result}]\n",
    "    print(update_history)\n",
    "    for character in result:\n",
    "        history[-1][\"content\"] += character\n",
    "        time.sleep(0.05)\n",
    "        yield history, gr.update(value=update_history)"
   ]
  },
  {
   "cell_type": "code",
   "execution_count": 555,
   "metadata": {},
   "outputs": [],
   "source": [
    "def bot2(history: list,msg_history):\n",
    "    \n",
    "    result = \"이잉 기모링~\"\n",
    "    history.append({\"role\": \"assistant\", \"content\": \"\"})\n",
    "    update_history = msg_history + [{\"role\": \"assistant\", \"content\":result}]\n",
    "    print(update_history)\n",
    "    for character in result:\n",
    "        history[-1][\"content\"] += character\n",
    "        time.sleep(0.05)\n",
    "        yield history, gr.update(value=update_history)"
   ]
  },
  {
   "cell_type": "code",
   "execution_count": 556,
   "metadata": {},
   "outputs": [],
   "source": [
    "def extract_text_from_pdf(pdf_path):\n",
    "    # PDF 파일 열기\n",
    "    doc = fitz.open(pdf_path)\n",
    "\n",
    "    # 모든 페이지에서 텍스트 추출\n",
    "    text = \"\"\n",
    "    for page_num in range(len(doc)):\n",
    "        page = doc.load_page(page_num)  # 페이지 로드\n",
    "        text += page.get_text()  # 텍스트 추출\n",
    "\n",
    "    return text"
   ]
  },
  {
   "cell_type": "code",
   "execution_count": 557,
   "metadata": {},
   "outputs": [],
   "source": [
    "def make_chunk(text):\n",
    "  chunk_list = []\n",
    "  doc = nlp(text)\n",
    "  for sent in (doc.sents):\n",
    "    chunk = sent.text\n",
    "    chunk_list.append(chunk)\n",
    "  return chunk_list"
   ]
  },
  {
   "cell_type": "code",
   "execution_count": 558,
   "metadata": {},
   "outputs": [],
   "source": [
    "def embedding_text(chunk_list):\n",
    "  embedding_list =[]\n",
    "  for chunk in chunk_list:\n",
    "    embedding = model.encode(chunk)\n",
    "    embedding_list.append(np.array(embedding))\n",
    "  embedding_tensor = np.array(embedding_list,dtype=np.float32)\n",
    "  return embedding_tensor"
   ]
  },
  {
   "cell_type": "code",
   "execution_count": 559,
   "metadata": {},
   "outputs": [],
   "source": [
    "def load_to_faiss(embedding_list):\n",
    "  dimension = embedding_list.shape[1]\n",
    "  index = faiss.IndexFlatL2(dimension)\n",
    "  index.add(embedding_list)\n",
    "  return index"
   ]
  },
  {
   "cell_type": "code",
   "execution_count": 563,
   "metadata": {},
   "outputs": [],
   "source": [
    "def process_pdf(message):\n",
    "    try:\n",
    "        if message[\"files\"]:\n",
    "            text_from_pdf = None\n",
    "            for x in message[\"files\"]:\n",
    "                mime_type, _ = mimetypes.guess_type(x)\n",
    "                if mime_type == \"application/pdf\":\n",
    "                    new_message={\n",
    "                    \"files\":[],\n",
    "                    \"text\":\"\"}\n",
    "                    print(\"This is a PDF file\")\n",
    "                    text_from_pdf = extract_text_from_pdf(x)\n",
    "                    chunk_list = make_chunk(text_from_pdf)\n",
    "                    print(\"chunk_list: \",chunk_list)\n",
    "                    embedding_list = embedding_text(chunk_list)\n",
    "                    print(\"embedding_list: \",embedding_list)\n",
    "                    faiss_index = load_to_faiss(embedding_list)\n",
    "                    print(\"faiss완료!: \",faiss_index.ntotal)\n",
    "                    query = model.encode([message[\"text\"]])\n",
    "                    print(\"query임베딩 완료!\")\n",
    "                    query_np = np.array(query).astype(\"float32\")\n",
    "                    print(\"query ndarray변환 완료!\")\n",
    "                    _,indices= faiss_index.search(query_np, 5)\n",
    "                    print(\"result: \",indices)\n",
    "                    print(\"indices type: \", type(indices[0][0]))\n",
    "                    text = \"\"\n",
    "                    for idx in indices[0]:\n",
    "                        text += \"Reference sentence: \" + chunk_list[idx]\n",
    "                        text = str(text)\n",
    "                    new_message[\"text\"] = (\n",
    "                        \"Please answer the question by referring to the given reference sentence.\"\n",
    "                        + text\n",
    "                        + \" Question: \"\n",
    "                        + message[\"text\"]\n",
    "                    )\n",
    "                    print(new_message)\n",
    "                    return gr.update(value=new_message)\n",
    "                else:\n",
    "                    return gr.update(value=message)  \n",
    "        else:     \n",
    "          return gr.update(value=message)\n",
    "    except Exception as e:\n",
    "        print(f\"Error in process_pdf: {e}\")\n",
    "        return gr.update(value=message)\n"
   ]
  },
  {
   "cell_type": "code",
   "execution_count": 564,
   "metadata": {},
   "outputs": [],
   "source": [
    "with gr.Blocks() as demo:\n",
    "  chatbot = gr.Chatbot(elem_id = \"chatbot\", bubble_full_width=False, type=\"messages\")\n",
    "\n",
    "  chat_input = gr.MultimodalTextbox(\n",
    "    interactive=True,\n",
    "    file_count=\"multiple\",\n",
    "    placeholder=\"메세지나 파일을 입력하세요\",\n",
    "    show_label=False,\n",
    "  )\n",
    "  json_output = gr.JSON(visible=False)\n",
    "  msg_history = gr.JSON(visible=False,value=[{\"role\": \"system\", \"content\":\"your are intelligent chatbot.\"}])\n",
    "\n",
    "  \n",
    "  pdf_check = chat_input.submit(\n",
    "    process_pdf, chat_input, json_output\n",
    "  )\n",
    "\n",
    "  user_msg = pdf_check.then(\n",
    "    make_openai_msg, [json_output,msg_history], msg_history\n",
    "  )\n",
    "  \n",
    "  chat_msg = user_msg.then(\n",
    "    add_message, [chatbot, chat_input], [chatbot,chat_input]\n",
    "  )\n",
    "\n",
    "  bot_msg = chat_msg.then(bot, [chatbot,msg_history], [chatbot,msg_history], api_name=\"bot_response\")\n",
    "  bot_msg.then(lambda: gr.MultimodalTextbox(interactive=True), None, [chat_input])"
   ]
  },
  {
   "cell_type": "code",
   "execution_count": 566,
   "metadata": {},
   "outputs": [
    {
     "name": "stdout",
     "output_type": "stream",
     "text": [
      "Rerunning server... use `close()` to stop if you need to change `launch()` parameters.\n",
      "----\n",
      "\n",
      "To create a public link, set `share=True` in `launch()`.\n"
     ]
    },
    {
     "data": {
      "text/html": [
       "<div><iframe src=\"http://127.0.0.1:7883/\" width=\"100%\" height=\"500\" allow=\"autoplay; camera; microphone; clipboard-read; clipboard-write;\" frameborder=\"0\" allowfullscreen></iframe></div>"
      ],
      "text/plain": [
       "<IPython.core.display.HTML object>"
      ]
     },
     "metadata": {},
     "output_type": "display_data"
    },
    {
     "data": {
      "text/plain": []
     },
     "execution_count": 566,
     "metadata": {},
     "output_type": "execute_result"
    }
   ],
   "source": [
    "demo.launch()"
   ]
  }
 ],
 "metadata": {
  "kernelspec": {
   "display_name": "genai2",
   "language": "python",
   "name": "python3"
  },
  "language_info": {
   "codemirror_mode": {
    "name": "ipython",
    "version": 3
   },
   "file_extension": ".py",
   "mimetype": "text/x-python",
   "name": "python",
   "nbconvert_exporter": "python",
   "pygments_lexer": "ipython3",
   "version": "3.10.15"
  }
 },
 "nbformat": 4,
 "nbformat_minor": 2
}
