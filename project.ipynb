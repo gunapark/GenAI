{
 "cells": [
  {
   "cell_type": "markdown",
   "metadata": {},
   "source": [
    "# pip install openai==0.28 설치하셔야 됩니다!!"
   ]
  },
  {
   "cell_type": "code",
   "execution_count": 567,
   "metadata": {},
   "outputs": [],
   "source": [
    "import gradio as gr\n",
    "import openai\n",
    "import base64\n",
    "import time\n",
    "import mimetypes\n",
    "import fitz\n",
    "import spacy\n",
    "import faiss\n",
    "import numpy as np\n"
   ]
  },
  {
   "cell_type": "code",
   "execution_count": 568,
   "metadata": {},
   "outputs": [],
   "source": [
    "from sentence_transformers import SentenceTransformer"
   ]
  },
  {
   "cell_type": "code",
   "execution_count": 569,
   "metadata": {},
   "outputs": [],
   "source": [
    "nlp = spacy.load(\"en_core_web_sm\")"
   ]
  },
  {
   "cell_type": "code",
   "execution_count": 570,
   "metadata": {},
   "outputs": [],
   "source": [
    "model = SentenceTransformer(\"all-MiniLM-L6-v2\")"
   ]
  },
  {
   "cell_type": "code",
   "execution_count": 592,
   "metadata": {},
   "outputs": [],
   "source": [
    "openai.api_base = \"https://a123-34-42-234-60.ngrok-free.app/v1\"  # 또는 ngrok URL\n",
    "openai.api_key = \"EMPTY\""
   ]
  },
  {
   "cell_type": "code",
   "execution_count": 602,
   "metadata": {},
   "outputs": [
    {
     "name": "stdout",
     "output_type": "stream",
     "text": [
      "{\n",
      "  \"object\": \"list\",\n",
      "  \"data\": [\n",
      "    {\n",
      "      \"id\": \"llava-hf/llava-1.5-7b-hf\",\n",
      "      \"object\": \"model\",\n",
      "      \"created\": 1733265718,\n",
      "      \"owned_by\": \"vllm\",\n",
      "      \"root\": \"llava-hf/llava-1.5-7b-hf\",\n",
      "      \"parent\": null,\n",
      "      \"max_model_len\": 4096,\n",
      "      \"permission\": [\n",
      "        {\n",
      "          \"id\": \"modelperm-7ebb18ba65f14ac9a13deb7f7dc51d7f\",\n",
      "          \"object\": \"model_permission\",\n",
      "          \"created\": 1733265718,\n",
      "          \"allow_create_engine\": false,\n",
      "          \"allow_sampling\": true,\n",
      "          \"allow_logprobs\": true,\n",
      "          \"allow_search_indices\": false,\n",
      "          \"allow_view\": true,\n",
      "          \"allow_fine_tuning\": false,\n",
      "          \"organization\": \"*\",\n",
      "          \"group\": null,\n",
      "          \"is_blocking\": false\n",
      "        }\n",
      "      ]\n",
      "    }\n",
      "  ]\n",
      "}\n"
     ]
    }
   ],
   "source": [
    "try:\n",
    "    models = openai.Model.list()\n",
    "    print(models)\n",
    "except Exception as e:\n",
    "    print(f\"Error: {e}\")"
   ]
  },
  {
   "cell_type": "code",
   "execution_count": 603,
   "metadata": {},
   "outputs": [],
   "source": [
    "model_vllm = models.data[0].id\n"
   ]
  },
  {
   "cell_type": "code",
   "execution_count": 604,
   "metadata": {},
   "outputs": [],
   "source": [
    "def encode_base64_content_from_file(image_path: str) -> str:\n",
    "    \"\"\"Encode a content retrieved from image_path to base64 format.\"\"\"\n",
    "    with open(image_path, \"rb\") as image_file:\n",
    "        encoded_string = base64.b64encode(image_file.read()).decode('utf-8')\n",
    "    return encoded_string"
   ]
  },
  {
   "cell_type": "code",
   "execution_count": 605,
   "metadata": {},
   "outputs": [],
   "source": [
    "def remove_image_url_from_history(history):\n",
    "    for msg in history:\n",
    "        # content가 리스트인 경우에만 처리\n",
    "        if isinstance(msg.get(\"content\"), list):\n",
    "            # \"type\": \"image_url\"이 아닌 항목만 남김\n",
    "            msg[\"content\"] = [c for c in msg[\"content\"] if c.get(\"type\") != \"image_url\"]\n",
    "    return history"
   ]
  },
  {
   "cell_type": "code",
   "execution_count": 606,
   "metadata": {},
   "outputs": [],
   "source": [
    "def make_openai_msg(message,history):\n",
    "  content = []\n",
    "  print(\"message[text]\", message[\"text\"])\n",
    "  if message[\"files\"]:\n",
    "    history = remove_image_url_from_history(history)\n",
    "    for x in message[\"files\"]:\n",
    "      print(x)\n",
    "      image_url = f\"data:image/jpeg;base64,{encode_base64_content_from_file(x)}\"\n",
    "      content.append({\"type\": \"image_url\",\n",
    "                      \"image_url\":{\"url\": image_url}})\n",
    "    if message[\"text\"]:\n",
    "      content.append({\"type\":\"text\",\n",
    "                      \"text\": message[\"text\"]})\n",
    "    else:\n",
    "      content.append({\"type\":\"text\",\n",
    "                      \"text\":\"describe this image clearly and accurately. If this image contains professional content, please provide an expert-level explanation.\"})\n",
    "    new_history = history + [{\"role\":\"user\",\n",
    "          \"content\":content}]\n",
    "    print(new_history)\n",
    "    return gr.update(value=new_history)\n",
    "  else:\n",
    "    new_history = history + [{\"role\": \"user\",\n",
    "                \"content\": message[\"text\"]}]\n",
    "    print(new_history)\n",
    "    return gr.update(value=new_history)\n",
    "  "
   ]
  },
  {
   "cell_type": "code",
   "execution_count": 607,
   "metadata": {},
   "outputs": [],
   "source": [
    "def add_message(history, message):\n",
    "    for x in message[\"files\"]:\n",
    "        history.append({\"role\": \"user\", \"content\": {\"path\": x}})\n",
    "    if message[\"text\"] is not None:\n",
    "        history.append({\"role\": \"user\", \"content\": message[\"text\"]})\n",
    "    else: history.append({\"role\": \"user\", \"content\": \"explain this image or picture\"})\n",
    "    return history, gr.MultimodalTextbox(value=None, interactive=False)"
   ]
  },
  {
   "cell_type": "code",
   "execution_count": 608,
   "metadata": {},
   "outputs": [],
   "source": [
    "def bot(history: list,msg_history):\n",
    "    \n",
    "    chat_completion = openai.ChatCompletion.create(\n",
    "        model=model_vllm,  # Replace with your model ID\n",
    "        messages=msg_history,\n",
    "        max_tokens=128,  # Configurable for more detailed responses\n",
    "    )\n",
    "    result = chat_completion.choices[0].message[\"content\"]\n",
    "    print(\"bot생성 답변: \",result)\n",
    "    history.append({\"role\": \"assistant\", \"content\": \"\"})\n",
    "    update_history = msg_history + [{\"role\": \"assistant\", \"content\":result}]\n",
    "    print(update_history)\n",
    "    for character in result:\n",
    "        history[-1][\"content\"] += character\n",
    "        time.sleep(0.05)\n",
    "        yield history, gr.update(value=update_history)"
   ]
  },
  {
   "cell_type": "code",
   "execution_count": 609,
   "metadata": {},
   "outputs": [],
   "source": [
    "def extract_text_from_pdf(pdf_path):\n",
    "    # PDF 파일 열기\n",
    "    doc = fitz.open(pdf_path)\n",
    "\n",
    "    # 모든 페이지에서 텍스트 추출\n",
    "    text = \"\"\n",
    "    for page_num in range(len(doc)):\n",
    "        page = doc.load_page(page_num)  # 페이지 로드\n",
    "        text += page.get_text()  # 텍스트 추출\n",
    "\n",
    "    return text"
   ]
  },
  {
   "cell_type": "code",
   "execution_count": 610,
   "metadata": {},
   "outputs": [],
   "source": [
    "def make_chunk(text):\n",
    "  chunk_list = []\n",
    "  doc = nlp(text)\n",
    "  for sent in (doc.sents):\n",
    "    chunk = sent.text\n",
    "    chunk_list.append(chunk)\n",
    "  return chunk_list"
   ]
  },
  {
   "cell_type": "code",
   "execution_count": 611,
   "metadata": {},
   "outputs": [],
   "source": [
    "def embedding_text(chunk_list):\n",
    "  embedding_list =[]\n",
    "  for chunk in chunk_list:\n",
    "    embedding = model.encode(chunk)\n",
    "    embedding_list.append(np.array(embedding))\n",
    "  embedding_tensor = np.array(embedding_list,dtype=np.float32)\n",
    "  return embedding_tensor"
   ]
  },
  {
   "cell_type": "code",
   "execution_count": 612,
   "metadata": {},
   "outputs": [],
   "source": [
    "def load_to_faiss(embedding_list):\n",
    "  dimension = embedding_list.shape[1]\n",
    "  index = faiss.IndexFlatL2(dimension)\n",
    "  index.add(embedding_list)\n",
    "  return index"
   ]
  },
  {
   "cell_type": "code",
   "execution_count": 622,
   "metadata": {},
   "outputs": [],
   "source": [
    "def process_pdf(message):\n",
    "    try:\n",
    "        if message[\"files\"]:\n",
    "            text_from_pdf = None\n",
    "            for x in message[\"files\"]:\n",
    "                mime_type, _ = mimetypes.guess_type(x)\n",
    "                if mime_type == \"application/pdf\":\n",
    "                    new_message={\n",
    "                    \"files\": [],\n",
    "                    \"text\":\"\"}\n",
    "                    print(\"This is a PDF file\")\n",
    "                    text_from_pdf = extract_text_from_pdf(x)\n",
    "                    chunk_list = make_chunk(text_from_pdf)\n",
    "                    chunk_len = len(chunk_list)\n",
    "                    print(\"chunk_list: \",chunk_list)\n",
    "                    embedding_list = embedding_text(chunk_list)\n",
    "                    print(\"embedding_list: \",embedding_list)\n",
    "                    faiss_index = load_to_faiss(embedding_list)\n",
    "                    print(\"faiss완료!: \",faiss_index.ntotal)\n",
    "                    query = model.encode([message[\"text\"]])\n",
    "                    print(\"query임베딩 완료!\")\n",
    "                    query_np = np.array(query).astype(\"float32\")\n",
    "                    print(\"query ndarray변환 완료!\")\n",
    "                    _,indices= faiss_index.search(query_np, int(chunk_len/10))\n",
    "                    print(\"result: \",indices)\n",
    "                    print(\"indices type: \", type(indices[0][0]))\n",
    "                    text = \"\"\n",
    "                    for idx in indices[0]:\n",
    "                        text += \"Reference sentence: \" + chunk_list[idx]\n",
    "                        text = str(text)\n",
    "                    new_message[\"text\"] = (\n",
    "                        \"\"\"You must answer clearly and accurately based on the relevant informations from the PDF file provided by the user, along with the user's request.\n",
    "                        Follow these rules when answering:\n",
    "                        1. Your answers should be concise and specific, prioritizing clarity and accuracy.\n",
    "                        2. If you cannot find a direct answer in the PDF content, you may attempt reasonable inference based on the provided information, but do not state it as a fact. Clearly mention this to the user.\n",
    "                        3. Do not include information that the user has not asked for, but you may provide additional relevant information based on the user's request if it seems useful.\n",
    "                        4. If the question is technical, scientific, or academic, respond at a professional level.\n",
    "                        The following content is the relevant information from the pdf file provied by user and request from the user that you should refer to.\"\"\"\n",
    "                        + text\n",
    "                        + \" Question: \"\n",
    "                        + message[\"text\"]\n",
    "                    )\n",
    "                    return gr.update(value=new_message)\n",
    "                else:\n",
    "                    return gr.update(value=message)\n",
    "        else:\n",
    "          return gr.update(value=message)\n",
    "    except Exception as e:\n",
    "        print(f\"Error in process_pdf: {e}\")\n",
    "        return gr.update(value=message)\n"
   ]
  },
  {
   "cell_type": "code",
   "execution_count": 623,
   "metadata": {},
   "outputs": [],
   "source": [
    "with gr.Blocks() as demo:\n",
    "  chatbot = gr.Chatbot(elem_id = \"chatbot\", bubble_full_width=False, type=\"messages\")\n",
    "\n",
    "  chat_input = gr.MultimodalTextbox(\n",
    "    interactive=True,\n",
    "    file_count=\"multiple\",\n",
    "    placeholder=\"메세지나 파일을 입력하세요\",\n",
    "    show_label=False,\n",
    "  )\n",
    "  contents = \"\"\"You are an intelligent conversational chatbot. Your role is to engage in friendly and informative general conversations with users. Follow these rules:\n",
    "      1. Respond in a professional yet approachable tone.\n",
    "      2. If the user asks a factual question, provide accurate and concise answers.\n",
    "      3. For casual conversations, engage in a natural and conversational manner.\n",
    "      4. If you don’t know the answer, politely admit it and offer to help in another way.\n",
    "      5. Do not initiate conversation on your own.\n",
    "      6. Provide expert-level advice on scientific, technical, and academic questions.\n",
    "      7. When answering, try to generate your answers within 3 sentences.\n",
    "\"\"\"\n",
    "  json_output = gr.JSON(visible=False)\n",
    "  msg_history = gr.JSON(visible=False,value=[{\"role\": \"system\", \"content\":contents}])\n",
    "\n",
    "  \n",
    "  pdf_check = chat_input.submit(\n",
    "    process_pdf, chat_input, json_output\n",
    "  )\n",
    "\n",
    "  user_msg = pdf_check.then(\n",
    "    make_openai_msg, [json_output,msg_history], msg_history\n",
    "  )\n",
    "  \n",
    "  chat_msg = user_msg.then(\n",
    "    add_message, [chatbot, chat_input], [chatbot,chat_input]\n",
    "  )\n",
    "\n",
    "  bot_msg = chat_msg.then(bot, [chatbot,msg_history], [chatbot,msg_history], api_name=\"bot_response\")\n",
    "  bot_msg.then(lambda: gr.MultimodalTextbox(interactive=True), None, [chat_input])"
   ]
  },
  {
   "cell_type": "code",
   "execution_count": null,
   "metadata": {},
   "outputs": [
    {
     "name": "stdout",
     "output_type": "stream",
     "text": [
      "Rerunning server... use `close()` to stop if you need to change `launch()` parameters.\n",
      "----\n",
      "\n",
      "To create a public link, set `share=True` in `launch()`.\n"
     ]
    },
    {
     "data": {
      "text/html": [
       "<div><iframe src=\"http://127.0.0.1:7887/\" width=\"100%\" height=\"500\" allow=\"autoplay; camera; microphone; clipboard-read; clipboard-write;\" frameborder=\"0\" allowfullscreen></iframe></div>"
      ],
      "text/plain": [
       "<IPython.core.display.HTML object>"
      ]
     },
     "metadata": {},
     "output_type": "display_data"
    },
    {
     "data": {
      "text/plain": []
     },
     "execution_count": 625,
     "metadata": {},
     "output_type": "execute_result"
    },
    {
     "name": "stdout",
     "output_type": "stream",
     "text": [
      "This is a PDF file\n",
      "chunk_list:  ['252 \\n \\nSalt and Pepper Noise: Effects and Removal \\nJamil Al-Azzeh#, Bilal Zahran#, Ziad Alqadi# \\n#', 'Al- Balqa Applied University (BAU), Jordan  \\n E-mail: azzehjamil@gmail.com \\n \\n \\n', 'Abstract— Noises degrade image quality which causes information losing and unsatisfying visual effects.', 'Salt and Pepper noise is one \\nof the most popular noises that affect image quality.', 'In RGB color image Salt and pepper noise changes the number of occurrences of \\ncolors combination depending on the noise ratio.', 'Many methods have been proposed to eliminate Salt and Pepper noise from color \\nimage with minimum loss of information.', 'In this paper we will investigate the effects of adding salt and pepper noise to RGB color \\nimage, the experimental noise ratio will be calculated and the color combination with maximum and minimum numbers of \\noccurrence will be calculated and detected in RGB color image.', 'In addition this paper proposed a methodology of salt and pepper \\nnoise elimination for color images using median filter providing the reconstruction of an image in order to accept result with \\nminimum loss of information.', 'The proposed methodology is to be implemented, tested and experimental results will be analyzed using \\nthe calculated values of RMSE and PSNR. \\n \\n', 'Keywords— RGB color image, salt and pepper noise, color combination, median filter, RMSE, PSNR. \\n \\n \\n', 'I. INTRODUCTION \\nDigital color image can be presented using deferent models. \\n', 'The most common model that used is RGB.', 'In RGB color \\nmodel colors described as a triple (Red, Green, and Blue).', 'The \\nRGB color space can be considered as a three-dimensional \\nunit cube, in which each axis represents one of the primary \\ncolors', '[1, 2, 3].', 'Figure 1 shows the RGB color model, where \\nany color can be represented in three values.', 'For example (0, \\n0, 255) stands for Blue color.  \\n \\n \\n', 'Fig.', '1. RGB color model \\n \\nNoise encountered into RGB color image caused by images \\ncaptured sensing devices and transmitted communication \\nnoises reduce the visual quality of an image.', 'One of the \\ncommon noises is Salt and Pepper noise. \\n', '1.1 Salt-and-pepper noise \\nSalt-and-pepper noise is a sparsely occurring white and \\nblack pixels sometimes seen on images.', 'Median filter or a \\nmorphological filter methods considered as a common \\nreduction methods of  this type noise  of noise', '[4, 5]. \\n', 'Image noise may be defined as any change in the image \\nsignal, caused by external disturbance.', 'Digital images are \\noften corrupted by impulse noise also known as Salt and \\nPepper noise due to transmission errors [10].', 'Accordingly it is \\nimportant to detect noisy pixels (using estimated calculations) \\nand recover an efficient value for each, which known as image \\nfilters', '[6, 9].', 'The most commonly used filters are the Standard \\nMedian Filter (SMF), Adaptive Median Filter (AMF)', '[5], \\nDecision Based Algorithm (DBA)', '[8], Progressive Switching \\nMedian Filter (PSMF)', '[12], and Detail preserving filter (DPF) \\n', '[13].', 'The filtering algorithm varies from one algorithm to \\nanother by the approximation accuracy for the noisy pixel \\nfrom its surrounding pixels', '[6, 9].', 'Median Filter (MF) is used \\nwidely because of its effective noise suppression capability [7]. \\n', 'Despite its main disadvantages of modifying both noisy and \\nnon-noisy pixels thus removing some fine details of the image. \\n', 'Image de-noising is the process of finding and recover \\nunusual values in digital image, that represents unwanted \\ninformation which spoils image quality.  \\n', 'The Salt & Pepper noise is generally caused by defect of \\ncamera sensor, software failure, or hardware failure in image \\ncapturing or transmission.', 'Due to this situation, Salt & Pepper \\nnoise model, only a proportion of all the image pixels are \\ncorrupted whereas other pixels are non-noisy [12].', 'A standard \\n \\nINTERNATIONAL JOURNAL ON INFORMATICS VISUALIZATION \\n \\n \\n \\nVOL 2 (2018)', 'NO 4 \\n  \\ne-ISSN : 2549-9904 \\nISSN    : 2549-9610   \\n253 \\n \\nSalt & Pepper noise value may be either minimum (0) or \\nmaximum (255).', 'The typical intensity value for pepper noise \\nis close to 0 and for salt noise is close to 255.', 'Furthermore, the \\nunaffected pixels remain unchanged. \\n                                      ', '(1) \\n1.2 Median filtering \\n Is a nonlinear method widely used to remove ‘salt and \\npepper’ type noise.', 'The median filter works by moving \\nthrough the image pixel by pixel, replacing each value with \\nthe median value of neighboring pixels within predefined \\nwindow size.', 'The median is calculated by first sorting all the \\npixel values from the window, and then replacing the pixel \\nbeing considered with the middle (median) pixel value.', 'Then \\nthe window slides, pixel by pixel over the entire image. \\n', 'The following (Figure 2) example shows the application of \\na median filter to a simple 2 dimensional signal.', 'A window \\nsize of 3x3 is used, with one entry immediately preceding and \\nfollowing each entry. \\n \\n \\n', 'Fig 2.', 'Median filter example \\n1.3 PSNR and RMSE \\nPSNR uses a standard mathematical model to measure a \\nquality of reducing noise from the image.  ', 'It is commonly \\nused in the development and analysis of compression \\nalgorithms, and for comparing visual quality between different \\ncompression systems.  ', 'PSNR is calculated by the following \\nformula: \\n \\nPSNR = 20*log10 (255 / RMSE)                                    (2) \\n \\nWhere RMSE is the square root of the mean squared error for \\nthe entire image.  \\n', 'PSNR is calculated using the first-captured image as the \\nreference image, and the filtered image.', 'The higher the PSNR \\nvalue is the higher quality of noise reduction \\nII.', 'SALT AND PEPPER NOISE EFFECTS \\n', 'First part of this paper we will introduce an experimental \\nmethod to investigate the affects a Salt and Pepper noise \\naffecting RGB color image.', 'The proposed method can \\nimplemented applying the following steps. \\n', '1. Acquire the source RGB image. \\n', '2. Add Salt and Pepper noise to the image varying the \\nnoise ratio. \\n', '3. Construct a RGB columns matrix by reshaping the \\ncolor image. \\n', '4.', 'Find the unique_colors combination by applying the \\nMatlab function unique. \\n', '5.', 'Construct an array with accumulation to find the \\nrepetition of each color combination by applying the \\nMatlab function accumarray. \\n', '6.', 'Find the color combination with maximum repetition. \\n', '7. Find the color combination with minimum repetition. \\n', '8. Detect the locations of the pixels with maximum \\nrepletion. \\n', '9. Detect the locations of the pixels with minimum \\nrepletion. \\n', 'The program was implemented in deferent ways as follows: \\n1.', 'First we create a black RGB color image with size \\n(200x250x3).  \\n ', 'Here we select deferent values of noise ratio associated    \\nwith imnoise Matlab function; Table 1 shows the \\nimplementation \\nresults \\nof \\nthis \\nphase. \\n', 'Here \\nthe \\nexperimental noise ratio will be calculated as follows: \\n', 'Experimental noise ratio= Color combination with max \\noccurrence/number of colors in the image. \\n', 'Number of colors in the image= 50000. \\n', 'TABLE I \\nRESULTS OF PHASE 1 \\nNoise \\nratio \\nNumber \\nof color \\ncombinati\\nons \\nColor \\ncombination \\nwith max \\noccurrence \\nCombinati\\non value \\nExperimental \\nnoise ratio \\n0 \\n1 \\n50000 \\n0 ,  0,   0 \\n0 \\n0.001 \\n4 \\n49908 \\n0 ,  0,   0 \\n0.0018 \\n0.002 \\n4 \\n49849 \\n0 ,  0,   0 \\n0.0030 \\n0.003 \\n5 \\n49742 \\n0 ,  0,   0 \\n', '0.0052 \\n0.004 \\n5 \\n49722 \\n0 ,  0,   0 \\n0.0056 \\n0.005 \\n6 \\n49652 \\n0 ,  0,   0 \\n0.0070 \\n0.006 \\n4 \\n49564 \\n0 ,  0,   0 \\n0.0087 \\n0.007 \\n5 \\n49458 \\n0 ,  0,   0 \\n0.0108 \\n0.008 \\n7 \\n49359 \\n0 ,  0,   0 \\n0.0128 \\n0.009 \\n6 \\n49304 \\n0 ,  0,   0 \\n0.0139 \\n0.010 \\n6 \\n49256 \\n0 ,  0,   0 \\n0.0149 \\n0.020 \\n8 \\n48469 \\n0 ,  0,   0 \\n0.0306 \\n0.030 \\n8 \\n47793 \\n0 ,  0,   0 \\n0.0441 \\n0.040 \\n7 \\n46992 \\n0 ,  0,   0 \\n0.0602 \\n0.050 \\n7 \\n46321 \\n0 ,  0,   0 \\n0.0736 \\n0.060 \\n8 \\n45693 \\n0 ,  0,   0 \\n0.0861 \\n0.070 \\n8 \\n44818 \\n0 ,  0,   0 \\n0.1036 \\n0.080 \\n8 \\n44235 \\n0 ,  0,   0 \\n0.1153 \\n0.090 \\n8 \\n43543 \\n0 ,  0,   0 \\n0.1291 \\n0.100 \\n8 \\n42912 \\n0 ,  0,   0 \\n0.1418 \\n254 \\n \\n2.', 'Second we create a white RGB color image with size \\n(200x250x3).  \\n', 'Here we select deferent values of noise ratio associated \\nwith imnoise Matlab function; table 2 shows the \\nimplementation results of this phase. \\n', 'TABLE III \\nRESULTS OF PHASE 2 \\nNoise \\nratio \\nNumber \\nof color \\ncombinati\\nons \\nColor \\ncombination \\nwith max \\noccurrence \\nCombination \\nvalue \\nExperim\\nental \\nnoise \\nratio \\n0 \\n1 \\n50000 \\n255,  255,  255 \\n0 \\n0.001 \\n4 \\n49935 \\n255,  255,  255 \\n0.0013 \\n0.002 \\n4 \\n49868 \\n255,  255,  255 \\n0.0026 \\n0.003 \\n5 \\n49764 \\n255,  255,  255 \\n0.0047 \\n0.004 \\n4 \\n49707 \\n255,  255,  255 \\n0.0059 \\n0.005 \\n4 \\n49649 \\n255,  255,  255 \\n0.0070 \\n0.006 \\n4 \\n49536 \\n255,  255,  255 \\n0.0093 \\n0.007 \\n6 \\n49479 \\n255,  255,  255 \\n0.0104 \\n0.008 \\n4 \\n49412 \\n255,  255,  255 \\n0.0118 \\n0.009 \\n6 \\n49293 \\n255,  255,  255 \\n0.0141 \\n0.010 \\n6 \\n49232 \\n255,  255,  255 \\n0.0154 \\n0.020 \\n7 \\n48569 \\n255,  255,  255 \\n0.0286 \\n0.030 \\n7 \\n47860 \\n255,  255,  255 \\n0.0428 \\n0.040 \\n7 \\n47092 \\n255,  255,  255 \\n0.0582 \\n0.050 \\n8 \\n46264 \\n255,  255,  255 \\n0.0747 \\n0.060 \\n8 \\n45677 \\n255,  255,  255 \\n0.0865 \\n0.070 \\n8 \\n44855 \\n255,  255,  255 \\n0.1029 \\n0.080 \\n8 \\n44201 \\n255,  255,  255 \\n0.1160 \\n0.090 \\n8 \\n43411 \\n255,  255,  255 \\n0.1318 \\n0.100 \\n8 \\n42974 \\n255,  255,  255 \\n0.1405 \\n \\nFrom the obtained results shown in Table 1 and Table 2 we \\ncan see that the experimental calculated noise ratio is closed to \\na theoretical one which is approved in Matlab, this is shown in \\nFigure 3. \\n0\\n0.01\\n0.02\\n0.03\\n0.04\\n0.05\\n0.06\\n0.07\\n0.08\\n0.09\\n0.1\\n0\\n0.02\\n0.04\\n0.06\\n0.08\\n0.1\\n0.12\\n0.14\\n0.16\\nNoise ratio\\nExp.', 'Noise ratio\\nBlack color image\\nWhite color image\\n \\nFig.', '3. Relationship between theoretical and experimental noise ratios \\n3.', 'Third phase of implementation by taking a real RGB color \\nimage peppers.png \\n', 'Here we select deferent values of noise ratio associated \\nwith imnoise Matlab function; Table 3 shows the \\nimplementation results of this phase. \\n', 'From the obtained results shown in Table 3 we can see that \\nadjusting the noise ratio value leads to changing the \\nnumber of color combinations, the value of the color \\ncombination with minimum repetition, and the value of \\ncolor combination with maximum repetition.', 'Figure 4 \\nshows the relationship between noise ratio and the number \\nof color combinations: \\n0\\n0.01\\n0.02\\n0.03\\n0.04\\n0.05\\n0.06\\n0.07\\n0.08\\n0.09\\n0.1\\n0.99\\n0.995\\n1\\n1.005\\n1.01\\n1.015\\n1.02\\n1.025\\n1.03\\n1.035\\nx 10\\n5\\nNumber of color combinations\\nNoise ratio\\n# of color combinations\\n \\nFig 4.', 'Relationship between number of color combinations                    \\nand noise ratio \\n \\nTABLE IIIII \\nRESULTS OF PHASE 3 \\nNoise \\nratio \\nNumber \\nof color \\ncombin\\nations \\nColor \\ncombinati\\non with \\nmin \\noccurrenc\\ne \\nNumb\\ner of \\noccurr\\nences \\nColor \\ncombination \\nwith max \\noccurrence \\nNumb\\ner of \\noccur\\nrence\\ns \\n0 \\n99059 \\n5 , 10,  15 \\n1 \\n254,  254,  254 \\n344 \\n0.001 \\n99320 \\n0,  8,    30 \\n1 \\n254 , 254,  254 \\n342 \\n0.002 \\n99670 \\n0 , 3,   11 \\n1 \\n254 , 254,  254 \\n343 \\n0.003 \\n99873 \\n0 , 0 ,  60 \\n1 \\n254 , 254,  254 \\n343 \\n0.004 \\n100065 \\n0,  5,   14 \\n1 \\n254 , 254,  254 \\n343 \\n0.005 \\n100267 \\n0 , 0,  26 \\n1 \\n254 , 254,  254 \\n333 \\n0.006 \\n100493 \\n0 , 0 , 35 \\n1 \\n254 , 254,  254 \\n339 \\n0.007 \\n100634 \\n0,  0,  46 \\n1 \\n254 , 254,  254 \\n339 \\n0.008 \\n100856 \\n0,  0,  38 \\n1 \\n254 , 254,  254 \\n336 \\n0.009 \\n100957 \\n0,  0,  23 \\n1 \\n254 , 254,  254 \\n331 \\n0.010 \\n101164 \\n0,  0,  3 \\n1 \\n254 , 254,  254 \\n335 \\n0.020 \\n102148 \\n0,  0,  6 \\n1 \\n254 , 254,  254 \\n323 \\n0.030 \\n102864 \\n0,  0,  5 \\n1 \\n254 , 254,  254 \\n323 \\n0.040 \\n103214 \\n0,  0,  12 \\n1 \\n254 , 254,  254 \\n302 \\n0.050 \\n103301 \\n0,  0,  8 \\n1 \\n254 , 254,  254 \\n300 \\n0.060 \\n103273 \\n0,  0,  4 \\n1 \\n254 , 254,  254 \\n287 \\n255 \\n \\n0.070 \\n103161 \\n0,  0,  2 \\n1 \\n255, 255,  255 \\n278 \\n0.080 \\n102870 \\n0,  0,  3 \\n1 \\n255, 255,  255 \\n286 \\n0.090 \\n102385 \\n0,  0,  5 \\n1 \\n255, 255,  0 \\n274 \\n0.100 \\n101915 \\n0,  0,  5 \\n1 \\n255, 255,  255 \\n282 \\n \\nNext figure shows the locations of the color combinations \\nwith minimum and maximum repletion. \\n', 'Original image\\nNoisy image with ratio=0.05\\nPixels with most repetition\\nPixels with least repetition\\n \\nFig.', '5.', 'Locations of the color combinations with minimum                       and \\nmaximum repletion \\n \\nIII.', 'SALT AND PEPPER NOISE EFFECTS \\n', 'A Matlab code was written to implement the proposed \\nmethod, deferent RGB color images with deferent sizes were \\naffected by salt and pepper noise with deferent value of noise \\nratio, Figure 6 shows the results of de-noising the image \\npeppers.png with noise ratio equal 0.1.', 'Our method used to \\nreduce/eliminate salt and pepper noise from RGB color image \\ncan implemented applying the following steps: \\n1.', 'Acquire RGB color image \\n2. Get the dimensions of the image \\n3.', 'Extract the individual red, green, and blue color \\nchannels. \\n', '4. Apply Median Filter the channels. \\n', '5. Find the noise in the red. \\n', '6.', 'Get rid of the noise in the red by replacing with median. \\n', '7. Find the noise in the green. \\n8.', 'Get rid of the noise in the green by replacing with \\nmedian. \\n', '9.', 'Find the noise in the blue. \\n', '10.', 'Get rid of the noise in the blue by replacing with \\nmedian. \\n', '11.', 'Reconstruct the noise free RGB image. \\n \\n', 'The RGB color image peppers.png then was treated several \\ntimes varying the noise ratio from 0.001 to 0.1.', 'The source \\nimage each time was affected with salt and pepper noise, \\nand then filtered by median filter with 3x3 mask.', 'Each time \\nwe calculate RMSE and PSNR, Table 4 shows the \\nexperimental results of this part of implementation. \\n', 'Original color Image\\nRed Channel\\nGreen Channel\\nBlue Channel\\nImage with Salt and Pepper Noise\\nNoisy Red Channel\\nNoisy Green Channel\\nNoisy Blue Channel\\nRestored Image\\n \\nFig.', '6. De-noising peppers.png \\n \\nFrom the obtained results shown in Table 4 we can raise the \\nfollowing facts: \\n', '1.', 'Median filter provides a high quality of salt and pepper \\nnoise reduction and elimination, because of the high \\nvalues of PSNR and low values of RMSE. \\n', '2.', 'Increasing noise ration leads to decreasing PSNR and \\nincreasing RMSE, thus reducing the quality of the \\nmedian filter. \\n', '3.', 'The relationship between PSNR and noise ratio is \\nclosed to linear as shown in Figure 7. \\n', '4.', 'The relationship between RMSE and noise ratio is also \\nclosed to linear relationship as shown in Figure 8. \\n', '5.', 'The quality of median filter in noise reduction \\ndecreased when the noise ratio increased.   \\n', 'TABLE IVV \\nEXPERIMENTAL RESULTS OF FIRST PART OF IMPLEMENTATION \\n', 'Noise ratio \\nPSNR \\nRMSE \\n0.001 \\n140.2946 \\n0.0033 \\n0.005 \\n130.5774 \\n0.008 \\n0.01 \\n125.3474 \\n0.0146 \\n0.015 \\n120.8481 \\n0.021 \\n0.02 \\n118.1216 \\n0.027 \\n0.025 \\n115.4155 \\n0.0345 \\n0.03 \\n113.897 \\n0.0408 \\n0.035 \\n111.7628 \\n0.0478 \\n0.04 \\n110.0766 \\n0.0534 \\n0.045 \\n109.36 \\n0.0592 \\n0.05 \\n108.2835 \\n0.0678 \\n0.055 \\n107.0779 \\n0.0749 \\n0.06 \\n104.6116 \\n0.0848 \\n0.065 \\n103.3155 \\n0.0929 \\n0.07 \\n103.2653 \\n0.0988 \\n0.075 \\n101.1348 \\n0.106 \\n0.08 \\n99.4528 \\n0.115 \\n0.085 \\n99.1635 \\n0.117 \\n0.09 \\n97.8145 \\n0.1335 \\n256 \\n \\n0.095 \\n97.4672 \\n0.1391 \\n0.1 \\n95.6972 \\n0.1481 \\n \\n0\\n0.01\\n0.02\\n0.03\\n0.04\\n0.05\\n0.06\\n0.07\\n0.08\\n0.09\\n0.1\\n95\\n100\\n105\\n110\\n115\\n120\\n125\\n130\\n135\\n140\\n145\\nNoise ratio\\nPSNR\\nPSNR(Noise ratio)\\n \\nFig 7.', 'Relationship between PSNR and noise ratio \\n \\n0\\n0.01\\n0.02\\n0.03\\n0.04\\n0.05\\n0.06\\n0.07\\n0.08\\n0.09\\n0.1\\n0\\n0.02\\n0.04\\n0.06\\n0.08\\n0.1\\n0.12\\n0.14\\n0.16\\n', 'Noise ratio\\nRMSE\\nRMSE(Noise ratio)\\n \\nFig 8.', 'Relationship between RMSE and noise ratio \\n \\nThe second part of implementation was implemented taking \\ndeferent color images with deferent size fixing the noise ratio \\nto 0.1.', 'Table 5 shows the experimental results of this part: \\nTABLE V \\nEXPERIMENTAL RESULTS OF PHASE 2 OF IMPLEMENTATION \\nImage \\nRows \\nColumns \\nColors \\nPSNR \\nRMSE \\nPeppers.png \\n384 \\n512 \\n3 \\n95.6972 \\n0.1481 \\nfabric.png \\n480 \\n640 \\n3 \\n83.1603 \\n0.4595 \\nfootball.jpg \\n256 \\n320 \\n3 \\n86.1364 \\n0.3510 \\nBirds.jpg \\n371 \\n508 \\n3 \\n69.6713 \\n0.5551 \\nblood.jpg \\n156 \\n322 \\n3 \\n90.1108 \\n0.1602 \\n \\nFrom the obtained results shown in table 5 we can see that \\nthere is no fixed relationship between PSNR and image size, \\nRMSE and image size, and this quite correct due to the nature \\nof salt and pepper noise and due to the steps 6m8m and 10 \\nIV.', 'CONCLUSIONS \\nThe proposed method of investigation the effects of Salt and \\nPepper noise on RGB color image was implemented several \\ntimes using deferent images and deferent values of noise ratio, \\nand from the obtained results we can conclude the following \\nfacts: \\n\\uf0fc', 'The experimental calculated noise ratio is more accurate \\ncomparing with the noise ratio proposed in matlab. \\n', '\\uf0fc', 'The experimental calculated noise ratio is very closed to \\nthe noise ratio proposed in Matlab. \\n', '\\uf0fc Varying the values of noise ratio leads to some changes in \\nthe number of color combinations. \\n', '\\uf0fc Varying the values of noise ratio leads to e change in the \\ncolor combination of minimum repletion.. \\n', '\\uf0fc Varying the values of noise ratio leads to e change in the \\ncolor combination of maximum repletion.. \\n', '\\uf0fc Using this method we can detect the locations of color \\ncombination with minimum repetition. \\n', '\\uf0fc Using this method we can detect the locations of color \\ncombination with maximum repetition. \\n', 'After using median filter to reduce salt and pepper noise was \\nproposed, implemented and tested.', 'It was shown that: \\n• \\nMedian filter provides a high quality of salt and pepper \\nnoise reduction and elimination, because of the high \\nvalues of PSNR and low values of RMSE. \\n', '• \\nIncreasing noise ration leads to decreasing PSNR and \\nincreasing RMSE, thus reducing the quality of the median \\nfilter. \\n', '• \\n', 'The relationship between PSNR and noise ratio is closed \\nto linear relationship. \\n', '• \\n', 'The relationship between RMSE and noise ratio is also \\nclosed to linear relationship. \\n', '• \\nThe quality of median filter in noise reduction decreased \\nwhen the noise ratio increased.   \\n', 'There is no fixed relationship between PSNR and image \\nsize, RMSE and image size, and this quite correct due to the \\nnature of salt and pepper noise. \\n', 'REFERENCES \\n', '[1] \\nMajed O. Al-Dwairi, Ziad A. Alqadi, Amjad A. AbuJazar and Rushdi \\nAbu Zneit, Optimized True-Color Image Processing, World Applied \\nSciences Journal 8 (10): 1175-1182, 2010 ISSN 1818-4952 © IDOSI \\nPublications, 2010. \\n', '[2] \\nZahran B., Jamil Al-Azzeh , Alqadi Z., Alzoghoul M. Khawatreh M, A \\nModified LBP Method To Extract Features From Color Images, \\nJournal of Theoretical and Applied Information Technology; May \\n2018., vol.', '96', 'Issue 10, p3014. \\n', \"[3] \\nAkram A. Moustafa and Ziad A. Alqadi, Color Image Reconstruction \\nUsing A New R'G'I Model, Journal of Computer Science 5 (4): 250-\\n254, 2009 ISSN 1549-3636 © 2009 Science Publications. \\n\", '[4] \\nFiras Ajil Jassim, Kriging Interpolation Filter to Reduce High Density \\nSalt and Pepper Noise, World of Computer Science and Information \\nTechnology Journal (WCSIT) ISSN: 2221-0741 Vol. 3, No. 1, 8-14, \\n2013. \\n', '[5] \\nD. Puig and M. Angel García,“Determiningoptimal window size for \\ntexture feature extraction methods”, IX Spanish Symposium on Pattern \\nRecognition and Image Analysis, Castellon, Spain, May, vol. 2, pp. \\n237-242, 2001. \\n', '[6] \\nE. H. Issaks, and R. M. Srivastava, An Introduction to Applied \\nGeostatistics.', 'Oxford: Oxford University Press, 1989.  \\n', '[7] \\nF. A. Jassim, “Image Denoising Using Interquartile Range Filter with \\nLocal Averaging”, International Journal of Soft Computing and \\nEngineering (IJSCE), vol.', '2, Issue 6, pp: 424 – 428, January 2013. \\n', '[8] \\nK. Vasanth, S. Karthik, and S. Divakaran, “RemovalofSalt&Pepper \\nNoise using Unsymmetrical Trimmed Variants as Detector”, European \\nJournal of Scientific Research, vol. 70, no.3, pp.', '468-478, 2012. \\n', '[9] \\nM. R. Stytz and R. W. Parrott.', 'Using kriging for 3d medical imaging. \\n', 'Computerized Medical Image., Graphics, vol. 17, no. 6, pp.421–442, \\n1993.  \\n', '[10] N.Alajlan,M.Kamel,E.Jernigan,“DetailPreservingimpulsenoise \\nremoval”, International journal on Signal processing: image \\ncommunication, vol 19, pp.', '993-1003, 2004. \\n', '[11] T. \\nVimala,“SaltAndPepperNoiseReductionUsing \\nMdbutmFilter \\nWithFuzzyBasedRefinement”,Volume 2, Issue 5, May 2012.  \\n', '[12] W. C. M. Van Beers and J. P. C. Kleijnen “Kriging for interpolation in \\nrandom simulation”,Journal of the Operational Research Society , vol. \\n54, pp.', '255–262, 2003. \\n', '[13] W. K. Pratt, Digital Image Processing, Fourth Edition, John Wiley & \\nSons, Inc., Publication, 2007. \\n \\n']\n",
      "embedding_list:  [[-0.09645839 -0.01137933  0.05323813 ... -0.04644924 -0.07250532\n",
      "   0.02558148]\n",
      " [ 0.01625505  0.00515926 -0.01135174 ... -0.04255892 -0.04433779\n",
      "  -0.00058685]\n",
      " [ 0.06951153 -0.05462973  0.1186136  ... -0.03230438 -0.01435797\n",
      "  -0.01897545]\n",
      " ...\n",
      " [-0.09940302 -0.02507497  0.02055151 ... -0.05069505 -0.10847265\n",
      "   0.06040046]\n",
      " [ 0.02791863 -0.02713002 -0.01137902 ... -0.0206221  -0.01611706\n",
      "  -0.04684373]\n",
      " [-0.01266679 -0.03772404  0.04325907 ... -0.0630053  -0.00664812\n",
      "  -0.03850259]]\n",
      "faiss완료!:  170\n",
      "query임베딩 완료!\n",
      "query ndarray변환 완료!\n",
      "result:  [[ 55  91 138  93   0  19   5 109  37  59  40   3 112 139  56  41 153]]\n",
      "indices type:  <class 'numpy.int64'>\n",
      "message[text] You must answer clearly and accurately based on the relevant informations from the PDF file provided by the user, along with the user's request.\n",
      "                        Follow these rules when answering:\n",
      "                        1. Your answers should be concise and specific, prioritizing clarity and accuracy.\n",
      "                        2. If you cannot find a direct answer in the PDF content, you may attempt reasonable inference based on the provided information, but do not state it as a fact. Clearly mention this to the user.\n",
      "                        3. Do not include information that the user has not asked for, but you may provide additional relevant information based on the user's request if it seems useful.\n",
      "                        4. If the question is technical, scientific, or academic, respond at a professional level.\n",
      "                        The following content is the relevant information from the pdf file provied by user and request from the user that you should refer to.Reference sentence: SALT AND PEPPER NOISE EFFECTS \n",
      "Reference sentence: SALT AND PEPPER NOISE EFFECTS \n",
      "Reference sentence: After using median filter to reduce salt and pepper noise was \n",
      "proposed, implemented and tested.Reference sentence: Our method used to \n",
      "reduce/eliminate salt and pepper noise from RGB color image \n",
      "can implemented applying the following steps: \n",
      "1.Reference sentence: 252 \n",
      " \n",
      "Salt and Pepper Noise: Effects and Removal \n",
      "Jamil Al-Azzeh#, Bilal Zahran#, Ziad Alqadi# \n",
      "#Reference sentence: One of the \n",
      "common noises is Salt and Pepper noise. \n",
      "Reference sentence: Many methods have been proposed to eliminate Salt and Pepper noise from color \n",
      "image with minimum loss of information.Reference sentence: The source \n",
      "image each time was affected with salt and pepper noise, \n",
      "and then filtered by median filter with 3x3 mask.Reference sentence: The Salt & Pepper noise is generally caused by defect of \n",
      "camera sensor, software failure, or hardware failure in image \n",
      "capturing or transmission.Reference sentence: 2. Add Salt and Pepper noise to the image varying the \n",
      "noise ratio. \n",
      "Reference sentence: NO 4 \n",
      "  \n",
      "e-ISSN : 2549-9904 \n",
      "ISSN    : 2549-9610   \n",
      "253 \n",
      " \n",
      "Salt & Pepper noise value may be either minimum (0) or \n",
      "maximum (255).Reference sentence: Salt and Pepper noise is one \n",
      "of the most popular noises that affect image quality.Reference sentence: 6. De-noising peppers.png \n",
      " \n",
      "From the obtained results shown in Table 4 we can raise the \n",
      "following facts: \n",
      "Reference sentence: It was shown that: \n",
      "• \n",
      "Median filter provides a high quality of salt and pepper \n",
      "noise reduction and elimination, because of the high \n",
      "values of PSNR and low values of RMSE. \n",
      "Reference sentence: First part of this paper we will introduce an experimental \n",
      "method to investigate the affects a Salt and Pepper noise \n",
      "affecting RGB color image.Reference sentence: The typical intensity value for pepper noise \n",
      "is close to 0 and for salt noise is close to 255.Reference sentence: [4] \n",
      "Firas Ajil Jassim, Kriging Interpolation Filter to Reduce High Density \n",
      "Salt and Pepper Noise, World of Computer Science and Information \n",
      "Technology Journal (WCSIT) ISSN: 2221-0741 Vol. 3, No. 1, 8-14, \n",
      "2013. \n",
      " Question: How can I defense salt and pepper attack?\n",
      "[{'role': 'system', 'content': 'You are an intelligent conversational chatbot. Your role is to engage in friendly and informative general conversations with users. Follow these rules:\\n      1. Respond in a professional yet approachable tone.\\n      2. If the user asks a factual question, provide accurate and concise answers.\\n      3. For casual conversations, engage in a natural and conversational manner.\\n      4. If you don’t know the answer, politely admit it and offer to help in another way.\\n      5. Do not initiate conversation on your own.\\n      6. Provide expert-level advice on scientific, technical, and academic questions.\\n      7. When answering, try to generate your answers within 3 sentences.\\n'}, {'role': 'user', 'content': \"You must answer clearly and accurately based on the relevant informations from the PDF file provided by the user, along with the user's request.\\n                        Follow these rules when answering:\\n                        1. Your answers should be concise and specific, prioritizing clarity and accuracy.\\n                        2. If you cannot find a direct answer in the PDF content, you may attempt reasonable inference based on the provided information, but do not state it as a fact. Clearly mention this to the user.\\n                        3. Do not include information that the user has not asked for, but you may provide additional relevant information based on the user's request if it seems useful.\\n                        4. If the question is technical, scientific, or academic, respond at a professional level.\\n                        The following content is the relevant information from the pdf file provied by user and request from the user that you should refer to.Reference sentence: SALT AND PEPPER NOISE EFFECTS \\nReference sentence: SALT AND PEPPER NOISE EFFECTS \\nReference sentence: After using median filter to reduce salt and pepper noise was \\nproposed, implemented and tested.Reference sentence: Our method used to \\nreduce/eliminate salt and pepper noise from RGB color image \\ncan implemented applying the following steps: \\n1.Reference sentence: 252 \\n \\nSalt and Pepper Noise: Effects and Removal \\nJamil Al-Azzeh#, Bilal Zahran#, Ziad Alqadi# \\n#Reference sentence: One of the \\ncommon noises is Salt and Pepper noise. \\nReference sentence: Many methods have been proposed to eliminate Salt and Pepper noise from color \\nimage with minimum loss of information.Reference sentence: The source \\nimage each time was affected with salt and pepper noise, \\nand then filtered by median filter with 3x3 mask.Reference sentence: The Salt & Pepper noise is generally caused by defect of \\ncamera sensor, software failure, or hardware failure in image \\ncapturing or transmission.Reference sentence: 2. Add Salt and Pepper noise to the image varying the \\nnoise ratio. \\nReference sentence: NO 4 \\n  \\ne-ISSN : 2549-9904 \\nISSN    : 2549-9610   \\n253 \\n \\nSalt & Pepper noise value may be either minimum (0) or \\nmaximum (255).Reference sentence: Salt and Pepper noise is one \\nof the most popular noises that affect image quality.Reference sentence: 6. De-noising peppers.png \\n \\nFrom the obtained results shown in Table 4 we can raise the \\nfollowing facts: \\nReference sentence: It was shown that: \\n• \\nMedian filter provides a high quality of salt and pepper \\nnoise reduction and elimination, because of the high \\nvalues of PSNR and low values of RMSE. \\nReference sentence: First part of this paper we will introduce an experimental \\nmethod to investigate the affects a Salt and Pepper noise \\naffecting RGB color image.Reference sentence: The typical intensity value for pepper noise \\nis close to 0 and for salt noise is close to 255.Reference sentence: [4] \\nFiras Ajil Jassim, Kriging Interpolation Filter to Reduce High Density \\nSalt and Pepper Noise, World of Computer Science and Information \\nTechnology Journal (WCSIT) ISSN: 2221-0741 Vol. 3, No. 1, 8-14, \\n2013. \\n Question: How can I defense salt and pepper attack?\"}]\n",
      "bot생성 답변:  \n",
      "Salt and pepper noise can significantly affect image quality, but there are several methods to reduce or eliminate it. In the provided PDF, the authors proposed a method to reduce salt and pepper noise using a median filter with a 3x3 mask. This approach has been shown to provide high-quality noise reduction with high values of PSNR and low values of RMSE. Additionally, other methods such as kriging interpolation filter have also been proposed to reduce high-density salt and pepper noise. To defend against salt and pepper attacks, it is important to choose an appropriate method based on the specific noise\n",
      "[{'role': 'system', 'content': 'You are an intelligent conversational chatbot. Your role is to engage in friendly and informative general conversations with users. Follow these rules:\\n      1. Respond in a professional yet approachable tone.\\n      2. If the user asks a factual question, provide accurate and concise answers.\\n      3. For casual conversations, engage in a natural and conversational manner.\\n      4. If you don’t know the answer, politely admit it and offer to help in another way.\\n      5. Do not initiate conversation on your own.\\n      6. Provide expert-level advice on scientific, technical, and academic questions.\\n      7. When answering, try to generate your answers within 3 sentences.\\n'}, {'role': 'user', 'content': \"You must answer clearly and accurately based on the relevant informations from the PDF file provided by the user, along with the user's request.\\n                        Follow these rules when answering:\\n                        1. Your answers should be concise and specific, prioritizing clarity and accuracy.\\n                        2. If you cannot find a direct answer in the PDF content, you may attempt reasonable inference based on the provided information, but do not state it as a fact. Clearly mention this to the user.\\n                        3. Do not include information that the user has not asked for, but you may provide additional relevant information based on the user's request if it seems useful.\\n                        4. If the question is technical, scientific, or academic, respond at a professional level.\\n                        The following content is the relevant information from the pdf file provied by user and request from the user that you should refer to.Reference sentence: SALT AND PEPPER NOISE EFFECTS \\nReference sentence: SALT AND PEPPER NOISE EFFECTS \\nReference sentence: After using median filter to reduce salt and pepper noise was \\nproposed, implemented and tested.Reference sentence: Our method used to \\nreduce/eliminate salt and pepper noise from RGB color image \\ncan implemented applying the following steps: \\n1.Reference sentence: 252 \\n \\nSalt and Pepper Noise: Effects and Removal \\nJamil Al-Azzeh#, Bilal Zahran#, Ziad Alqadi# \\n#Reference sentence: One of the \\ncommon noises is Salt and Pepper noise. \\nReference sentence: Many methods have been proposed to eliminate Salt and Pepper noise from color \\nimage with minimum loss of information.Reference sentence: The source \\nimage each time was affected with salt and pepper noise, \\nand then filtered by median filter with 3x3 mask.Reference sentence: The Salt & Pepper noise is generally caused by defect of \\ncamera sensor, software failure, or hardware failure in image \\ncapturing or transmission.Reference sentence: 2. Add Salt and Pepper noise to the image varying the \\nnoise ratio. \\nReference sentence: NO 4 \\n  \\ne-ISSN : 2549-9904 \\nISSN    : 2549-9610   \\n253 \\n \\nSalt & Pepper noise value may be either minimum (0) or \\nmaximum (255).Reference sentence: Salt and Pepper noise is one \\nof the most popular noises that affect image quality.Reference sentence: 6. De-noising peppers.png \\n \\nFrom the obtained results shown in Table 4 we can raise the \\nfollowing facts: \\nReference sentence: It was shown that: \\n• \\nMedian filter provides a high quality of salt and pepper \\nnoise reduction and elimination, because of the high \\nvalues of PSNR and low values of RMSE. \\nReference sentence: First part of this paper we will introduce an experimental \\nmethod to investigate the affects a Salt and Pepper noise \\naffecting RGB color image.Reference sentence: The typical intensity value for pepper noise \\nis close to 0 and for salt noise is close to 255.Reference sentence: [4] \\nFiras Ajil Jassim, Kriging Interpolation Filter to Reduce High Density \\nSalt and Pepper Noise, World of Computer Science and Information \\nTechnology Journal (WCSIT) ISSN: 2221-0741 Vol. 3, No. 1, 8-14, \\n2013. \\n Question: How can I defense salt and pepper attack?\"}, {'role': 'assistant', 'content': '\\nSalt and pepper noise can significantly affect image quality, but there are several methods to reduce or eliminate it. In the provided PDF, the authors proposed a method to reduce salt and pepper noise using a median filter with a 3x3 mask. This approach has been shown to provide high-quality noise reduction with high values of PSNR and low values of RMSE. Additionally, other methods such as kriging interpolation filter have also been proposed to reduce high-density salt and pepper noise. To defend against salt and pepper attacks, it is important to choose an appropriate method based on the specific noise'}]\n"
     ]
    }
   ],
   "source": [
    "demo.launch()"
   ]
  }
 ],
 "metadata": {
  "kernelspec": {
   "display_name": "genai2",
   "language": "python",
   "name": "python3"
  },
  "language_info": {
   "codemirror_mode": {
    "name": "ipython",
    "version": 3
   },
   "file_extension": ".py",
   "mimetype": "text/x-python",
   "name": "python",
   "nbconvert_exporter": "python",
   "pygments_lexer": "ipython3",
   "version": "3.10.15"
  }
 },
 "nbformat": 4,
 "nbformat_minor": 2
}
